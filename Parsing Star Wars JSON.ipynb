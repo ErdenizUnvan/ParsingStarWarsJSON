{
 "cells": [
  {
   "cell_type": "code",
   "execution_count": null,
   "id": "84428ef2",
   "metadata": {},
   "outputs": [],
   "source": [
    "import json"
   ]
  },
  {
   "cell_type": "code",
   "execution_count": null,
   "id": "e0e068f3",
   "metadata": {},
   "outputs": [],
   "source": [
    "with open('starwars.json') as f:\n",
    "    SW = json.load(f)\n",
    "type(SW)"
   ]
  },
  {
   "cell_type": "code",
   "execution_count": null,
   "id": "13fb9a69",
   "metadata": {},
   "outputs": [],
   "source": [
    "len(SW)"
   ]
  },
  {
   "cell_type": "code",
   "execution_count": null,
   "id": "de559346",
   "metadata": {},
   "outputs": [],
   "source": [
    "SW[0]"
   ]
  },
  {
   "cell_type": "code",
   "execution_count": null,
   "id": "8e2443b5",
   "metadata": {},
   "outputs": [],
   "source": [
    "type(SW[0])"
   ]
  },
  {
   "cell_type": "code",
   "execution_count": null,
   "id": "a49987ea",
   "metadata": {},
   "outputs": [],
   "source": [
    "SW[0]['name']"
   ]
  },
  {
   "cell_type": "code",
   "execution_count": null,
   "id": "0e7c1354",
   "metadata": {},
   "outputs": [],
   "source": [
    "SW[0]['affiliations']"
   ]
  },
  {
   "cell_type": "code",
   "execution_count": null,
   "id": "d46c36e8",
   "metadata": {},
   "outputs": [],
   "source": [
    "for aitlik in SW[0]['affiliations']:\n",
    "    print(aitlik)"
   ]
  },
  {
   "cell_type": "code",
   "execution_count": null,
   "id": "2f0d864c",
   "metadata": {},
   "outputs": [],
   "source": [
    "SW[0]['masters']"
   ]
  },
  {
   "cell_type": "code",
   "execution_count": null,
   "id": "bdb17318",
   "metadata": {},
   "outputs": [],
   "source": [
    "SW[0]['apprentices']"
   ]
  },
  {
   "cell_type": "code",
   "execution_count": null,
   "id": "f98cad9a",
   "metadata": {},
   "outputs": [],
   "source": [
    "for character in SW:\n",
    "    print(character)"
   ]
  },
  {
   "cell_type": "code",
   "execution_count": null,
   "id": "a09c194a",
   "metadata": {},
   "outputs": [],
   "source": [
    "for character in SW:\n",
    "    print(character['name'])"
   ]
  },
  {
   "cell_type": "code",
   "execution_count": null,
   "id": "8a5b27b4",
   "metadata": {},
   "outputs": [],
   "source": [
    "for character in SW:\n",
    "    if character['name'] == 'Luke Skywalker':\n",
    "        print(character['masters'])"
   ]
  },
  {
   "cell_type": "code",
   "execution_count": null,
   "id": "3e1c89b5",
   "metadata": {},
   "outputs": [],
   "source": [
    "for character in SW:\n",
    "    if character['name'] == 'Luke Skywalker':\n",
    "        print(character['affiliations'])"
   ]
  },
  {
   "cell_type": "code",
   "execution_count": null,
   "id": "05131c35",
   "metadata": {},
   "outputs": [],
   "source": [
    "#Obi-Wan Kenobi\n",
    "for character in SW:\n",
    "    if character['name'] == 'Obi-Wan Kenobi':\n",
    "        print(character['affiliations'])"
   ]
  },
  {
   "cell_type": "code",
   "execution_count": null,
   "id": "41787448",
   "metadata": {},
   "outputs": [],
   "source": [
    "#Jedi Order\n",
    "jedi=[]\n",
    "for character in SW:\n",
    "    if 'Jedi Order' in character['affiliations']:\n",
    "        jedi.append(character['name'])\n",
    "jedi"
   ]
  },
  {
   "cell_type": "code",
   "execution_count": null,
   "id": "1116ba29",
   "metadata": {},
   "outputs": [],
   "source": [
    "#Jedi Order & Jedi High Council'\n",
    "jedi_high_council=[]\n",
    "for character in SW:\n",
    "    if 'Jedi Order' in character['affiliations'] and 'Jedi High Council' in character['affiliations']:\n",
    "        jedi_high_council.append(character['name'])\n",
    "jedi_high_council"
   ]
  },
  {
   "cell_type": "code",
   "execution_count": null,
   "id": "b165c60b",
   "metadata": {},
   "outputs": [],
   "source": [
    "len(jedi)"
   ]
  },
  {
   "cell_type": "code",
   "execution_count": null,
   "id": "f658a14a",
   "metadata": {},
   "outputs": [],
   "source": [
    "len(jedi_high_council)"
   ]
  },
  {
   "cell_type": "code",
   "execution_count": null,
   "id": "173b6c28",
   "metadata": {},
   "outputs": [],
   "source": [
    "#Obi-Wan Kenobi\n",
    "for character in SW:\n",
    "    if character['name'] == 'Obi-Wan Kenobi':\n",
    "        print(character['apprentices'])"
   ]
  },
  {
   "cell_type": "code",
   "execution_count": null,
   "id": "05d63564",
   "metadata": {},
   "outputs": [],
   "source": [
    "#Anakin Skywalker\n",
    "for character in SW:\n",
    "    if character['name'] == 'Anakin Skywalker':\n",
    "        print(character['affiliations'])"
   ]
  },
  {
   "cell_type": "code",
   "execution_count": null,
   "id": "8369275c",
   "metadata": {},
   "outputs": [],
   "source": [
    "#Sith\n",
    "sith=[]\n",
    "for character in SW:\n",
    "    if 'Sith' in character['affiliations']:\n",
    "        sith.append(character['name'])\n",
    "sith"
   ]
  },
  {
   "cell_type": "code",
   "execution_count": null,
   "id": "7437f169",
   "metadata": {},
   "outputs": [],
   "source": [
    "\n",
    "for character in SW:\n",
    "    if 'Sith' in character['affiliations']:\n",
    "        print(character['masters'])"
   ]
  },
  {
   "cell_type": "code",
   "execution_count": null,
   "id": "81fa3898",
   "metadata": {},
   "outputs": [],
   "source": [
    "jedi_with_masters=[]\n",
    "jedi_without_masters=[]\n",
    "for character in SW:\n",
    "    if 'Jedi Order' in character['affiliations'] and 'masters' in character:\n",
    "        jedi_with_masters.append(character['name'])\n",
    "    elif 'Jedi Order' in character['affiliations'] and 'masters' not in character:\n",
    "        jedi_without_masters.append(character['name'])"
   ]
  },
  {
   "cell_type": "code",
   "execution_count": null,
   "id": "bcc4962e",
   "metadata": {},
   "outputs": [],
   "source": [
    "jedi_with_masters"
   ]
  },
  {
   "cell_type": "code",
   "execution_count": null,
   "id": "52794844",
   "metadata": {},
   "outputs": [],
   "source": [
    "jedi_without_masters"
   ]
  },
  {
   "cell_type": "code",
   "execution_count": null,
   "id": "8f7fa6d9",
   "metadata": {},
   "outputs": [],
   "source": [
    "len(jedi_with_masters)"
   ]
  },
  {
   "cell_type": "code",
   "execution_count": null,
   "id": "28779b3c",
   "metadata": {},
   "outputs": [],
   "source": [
    "len(jedi_without_masters)"
   ]
  },
  {
   "cell_type": "code",
   "execution_count": null,
   "id": "e8961892",
   "metadata": {},
   "outputs": [],
   "source": [
    "#masters' i olan ve master'i Yoda olan jedilarimizi gorelim\n",
    "jedi_with_master_Yoda=[]\n",
    "key_to_lookup='masters'\n",
    "for character in SW:\n",
    "    if 'Jedi Order' in character['affiliations'] and key_to_lookup in character and 'Yoda' in character['masters']:\n",
    "        jedi_with_master_Yoda.append(character['name'])\n",
    "jedi_with_master_Yoda"
   ]
  },
  {
   "cell_type": "code",
   "execution_count": null,
   "id": "ff6c3e36",
   "metadata": {},
   "outputs": [],
   "source": [
    "jedi_with_masters2=[]\n",
    "jedi_without_masters2=[]\n",
    "for character in SW:\n",
    "    try:\n",
    "        if 'Jedi Order' in character['affiliations'] and character['masters']:\n",
    "            jedi_with_masters2.append(character['name'])\n",
    "    except Exception as e:\n",
    "        jedi_without_masters2.append(character['name'])"
   ]
  },
  {
   "cell_type": "code",
   "execution_count": null,
   "id": "d481894e",
   "metadata": {},
   "outputs": [],
   "source": [
    "jedi_with_masters2"
   ]
  },
  {
   "cell_type": "code",
   "execution_count": null,
   "id": "e0290826",
   "metadata": {},
   "outputs": [],
   "source": [
    "jedi_without_masters2"
   ]
  }
 ],
 "metadata": {
  "kernelspec": {
   "display_name": "Python 3 (ipykernel)",
   "language": "python",
   "name": "python3"
  },
  "language_info": {
   "codemirror_mode": {
    "name": "ipython",
    "version": 3
   },
   "file_extension": ".py",
   "mimetype": "text/x-python",
   "name": "python",
   "nbconvert_exporter": "python",
   "pygments_lexer": "ipython3",
   "version": "3.9.12"
  }
 },
 "nbformat": 4,
 "nbformat_minor": 5
}
